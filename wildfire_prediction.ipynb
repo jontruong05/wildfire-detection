{
 "cells": [
  {
   "cell_type": "markdown",
   "id": "35df77bf",
   "metadata": {},
   "source": [
    "# Wildfire Prediction\n",
    "\n",
    "This Jupyter Notebook implements a CNN to predict whether a landscape image represents a wildfire or not. PyTorch will be the main library used for this project. \n",
    "\n",
    "Image Specifications:\n",
    "- Type: `.jpg`\n",
    "- Dimensions: 250 x 250 pixels\n",
    "- Horizontal/vertical resolution: 96 dpi\n",
    "- Bit depth: 24"
   ]
  },
  {
   "cell_type": "code",
   "execution_count": 12,
   "id": "7d7ce618",
   "metadata": {},
   "outputs": [],
   "source": [
    "# Import libraries\n",
    "import torch\n",
    "import torch.nn as nn\n",
    "import torchvision\n",
    "import torchvision.transforms as transforms\n",
    "import matplotlib.pyplot as plt\n",
    "import numpy as np\n",
    "from torch.utils.data import DataLoader"
   ]
  },
  {
   "cell_type": "code",
   "execution_count": 13,
   "id": "295785df",
   "metadata": {},
   "outputs": [],
   "source": [
    "# Define transforms\n",
    "transform = transforms.Compose([\n",
    "    transforms.ToTensor(),\n",
    "    transforms.Normalize((0.5, 0.5, 0.5), (0.5, 0.5, 0.5))\n",
    "])"
   ]
  },
  {
   "cell_type": "code",
   "execution_count": 14,
   "id": "f1a11aae",
   "metadata": {},
   "outputs": [],
   "source": [
    "# Load the data\n",
    "train_set = torchvision.datasets.ImageFolder('forest_fire/Training and Validation', transform)\n",
    "test_set = torchvision.datasets.ImageFolder('forest_fire/Testing', transform)"
   ]
  },
  {
   "cell_type": "code",
   "execution_count": null,
   "id": "597f19cd",
   "metadata": {},
   "outputs": [],
   "source": [
    "# Create some constants and hyperparameters\n",
    "architectures = [\n",
    "    [64],\n",
    "    [128, 64],\n",
    "    [256, 128, 64],\n",
    "    [512, 256, 128, 64]\n",
    "]\n",
    "input_size = 250 * 250\n",
    "conv_sizes = [3, 5, 7]\n",
    "classes = ['is a wildfire', 'not a wildfire']\n",
    "num_classes = 2"
   ]
  },
  {
   "cell_type": "code",
   "execution_count": null,
   "id": "335dab58",
   "metadata": {},
   "outputs": [],
   "source": [
    "# Create a dynamic Multi-layer Perceptron\n",
    "class DynamicMLP(nn.Module):\n",
    "    \n",
    "    def __init__(self, input_size, hidden_sizes, output_size):\n",
    "        super(DynamicMLP, self).__init__()\n",
    "        layers = []\n",
    "\n",
    "        # Initialize MLP architecture\n",
    "        prev_size = input_size\n",
    "        for hidden_size in hidden_sizes:\n",
    "            layers.append(nn.Linear(prev_size, hidden_size))\n",
    "            layers.append(nn.ReLU())\n",
    "            prev_size = hidden_size\n",
    "\n",
    "        # Make output layer\n",
    "        layers.append(nn.Linear(prev_size, output_size))\n",
    "        self.layers = nn.Sequential(*layers)\n",
    "\n",
    "    def forward(self, x):\n",
    "        return self.layers(x)"
   ]
  },
  {
   "cell_type": "code",
   "execution_count": null,
   "id": "f2a0dcb7",
   "metadata": {},
   "outputs": [],
   "source": [
    "# Create a dynamic Convolutional Neural Network\n",
    "class DynamicCNN(nn.Module):\n",
    "    \n",
    "    def __init__(self, input_size, hidden_sizes, conv_size, output_size):\n",
    "        super(DynamicCNN, self).__init__()\n",
    "        layers = []\n",
    "\n",
    "        # Input layer for CNN\n",
    "        layers.append(nn.Conv2d(3, input_size, conv_size))\n",
    "        layers.append(nn.ReLU())\n",
    "        layers.append(nn.MaxPool2d(2))\n",
    "\n",
    "        # Initialize CNN architecture\n",
    "        prev_size = input_size\n",
    "        for hidden_size in hidden_sizes:\n",
    "            layers.append(nn.Conv2d(prev_size, hidden_size, conv_size))\n",
    "            layers.append(nn.ReLU())\n",
    "            layers.append(nn.MaxPool2d(2))\n",
    "            prev_size = hidden_size\n",
    "\n",
    "        # Output layer\n",
    "        layers.append(nn.Flatten())\n",
    "        layers.append(nn.Linear(, output_size))\n",
    "\n",
    "        self.layers = nn.Sequential(*layers)\n",
    "\n",
    "    def forward(self, x):\n",
    "        return self.layers(x)"
   ]
  }
 ],
 "metadata": {
  "kernelspec": {
   "display_name": "base",
   "language": "python",
   "name": "python3"
  },
  "language_info": {
   "codemirror_mode": {
    "name": "ipython",
    "version": 3
   },
   "file_extension": ".py",
   "mimetype": "text/x-python",
   "name": "python",
   "nbconvert_exporter": "python",
   "pygments_lexer": "ipython3",
   "version": "3.12.5"
  }
 },
 "nbformat": 4,
 "nbformat_minor": 5
}
