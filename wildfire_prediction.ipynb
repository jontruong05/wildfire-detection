{
 "cells": [
  {
   "cell_type": "markdown",
   "id": "35df77bf",
   "metadata": {},
   "source": [
    "# Wildfire Prediction\n",
    "\n",
    "This Jupyter Notebook implements various MLPs and CNNs to predict whether a landscape image represents a wildfire or not. PyTorch will be the main library used for this project. \n",
    "\n",
    "Image Specifications:\n",
    "- Type: `.jpg`\n",
    "- Dimensions: 250 x 250 pixels\n",
    "- Horizontal/vertical resolution: 96 dpi\n",
    "- Bit depth: 24"
   ]
  },
  {
   "cell_type": "code",
   "execution_count": 3,
   "id": "7d7ce618",
   "metadata": {},
   "outputs": [],
   "source": [
    "# Import libraries\n",
    "import torch\n",
    "import torch.nn as nn\n",
    "import torchvision\n",
    "import torchvision.transforms as transforms\n",
    "import matplotlib.pyplot as plt\n",
    "import numpy as np\n",
    "from torch.utils.data import DataLoader"
   ]
  },
  {
   "cell_type": "code",
   "execution_count": 4,
   "id": "295785df",
   "metadata": {},
   "outputs": [],
   "source": [
    "# Define transforms\n",
    "transform = transforms.Compose([\n",
    "    transforms.ToTensor(),\n",
    "    transforms.Normalize((0.5, 0.5, 0.5), (0.5, 0.5, 0.5))\n",
    "])"
   ]
  },
  {
   "cell_type": "code",
   "execution_count": 5,
   "id": "f1a11aae",
   "metadata": {},
   "outputs": [],
   "source": [
    "# Load the data\n",
    "train_set = torchvision.datasets.ImageFolder('forest_fire/Training and Validation', transform)\n",
    "test_set = torchvision.datasets.ImageFolder('forest_fire/Testing', transform)"
   ]
  },
  {
   "cell_type": "code",
   "execution_count": null,
   "id": "597f19cd",
   "metadata": {},
   "outputs": [],
   "source": [
    "# Global constants\n",
    "input_size = 250 * 250\n",
    "classes = ['is a wildfire', 'not a wildfire']\n",
    "num_classes = 2\n",
    "\n",
    "# Eight different MLP architectures to experiment\n",
    "mlp_hidden_sizes = [\n",
    "    [64],\n",
    "    [128, 64],\n",
    "    [256, 64],\n",
    "    [512, 128],\n",
    "    [256, 128, 64],\n",
    "    [1024, 256, 64],\n",
    "    [512, 256, 128, 64],\n",
    "    [1024, 512, 256, 128, 64]\n",
    "]\n",
    "\n",
    "# Nine different CNN architectures to experiment\n",
    "conv_sizes = [3, 5, 7]\n",
    "cnn_hidden_sizes = [\n",
    "    [32],\n",
    "    [32, 64],\n",
    "    [32, 64, 128]\n",
    "]"
   ]
  },
  {
   "cell_type": "code",
   "execution_count": null,
   "id": "335dab58",
   "metadata": {},
   "outputs": [],
   "source": [
    "# Create a dynamic Multi-layer Perceptron\n",
    "class DynamicMLP(nn.Module):\n",
    "    \n",
    "    def __init__(self, input_size, hidden_sizes, num_classes):\n",
    "        super(DynamicMLP, self).__init__()\n",
    "        layers = [nn.Flatten()]\n",
    "\n",
    "        # Construct MLP\n",
    "        prev_size = input_size\n",
    "        for hidden_size in hidden_sizes:\n",
    "            layers.append(nn.Linear(prev_size, hidden_size))\n",
    "            layers.append(nn.ReLU())\n",
    "            prev_size = hidden_size\n",
    "\n",
    "        # Make output layer\n",
    "        layers.append(nn.Linear(prev_size, num_classes))\n",
    "        self.layers = nn.Sequential(*layers)\n",
    "\n",
    "    def forward(self, x):\n",
    "        return self.layers(x)"
   ]
  },
  {
   "cell_type": "code",
   "execution_count": null,
   "id": "f2a0dcb7",
   "metadata": {},
   "outputs": [],
   "source": [
    "# Create a dynamic Convolutional Neural Network\n",
    "class DynamicCNN(nn.Module):\n",
    "    \n",
    "    def __init__(self, hidden_sizes, conv_size, num_classes):\n",
    "        super(DynamicCNN, self).__init__()\n",
    "        layers = []\n",
    "\n",
    "        # Construct CNN\n",
    "        curr_layer = 3 # initially RGB channels\n",
    "        img_dim = 250 # image dimension\n",
    "        for hidden_size in hidden_sizes:\n",
    "            layers.append(nn.Conv2d(curr_layer, hidden_size, conv_size))\n",
    "            layers.append(nn.ReLU())\n",
    "            layers.append(nn.MaxPool2d(2))\n",
    "            img_dim = img_dim // 2\n",
    "            curr_layer = hidden_size\n",
    "\n",
    "        # Output layer\n",
    "        layers.append(nn.Flatten())\n",
    "        layers.append(nn.Linear(img_dim * img_dim * curr_layer, num_classes))\n",
    "\n",
    "        self.layers = nn.Sequential(*layers)\n",
    "\n",
    "    def forward(self, x):\n",
    "        return self.layers(x)"
   ]
  },
  {
   "cell_type": "code",
   "execution_count": null,
   "id": "9ef84368",
   "metadata": {},
   "outputs": [],
   "source": [
    "# Main idea on initializing/training MLPs\n",
    "for mlp_arch in mlp_hidden_sizes:\n",
    "    curr_mlp = DynamicMLP(input_size, mlp_arch, num_classes)    "
   ]
  },
  {
   "cell_type": "code",
   "execution_count": null,
   "id": "50cb5489",
   "metadata": {},
   "outputs": [],
   "source": [
    "# Main idea on initializing/training CNNs\n",
    "for conv_size in conv_sizes:\n",
    "    for cnn_arch in cnn_hidden_sizes:\n",
    "        curr_cnn = DynamicCNN(cnn_arch, conv_size, num_classes)"
   ]
  }
 ],
 "metadata": {
  "kernelspec": {
   "display_name": "Python 3",
   "language": "python",
   "name": "python3"
  },
  "language_info": {
   "codemirror_mode": {
    "name": "ipython",
    "version": 3
   },
   "file_extension": ".py",
   "mimetype": "text/x-python",
   "name": "python",
   "nbconvert_exporter": "python",
   "pygments_lexer": "ipython3",
   "version": "3.11.9"
  }
 },
 "nbformat": 4,
 "nbformat_minor": 5
}
