{
 "cells": [
  {
   "cell_type": "markdown",
   "id": "35df77bf",
   "metadata": {},
   "source": [
    "# Wildfire Prediction\n",
    "\n",
    "This Jupyter Notebook implements a CNN to predict whether a landscape image represents a wildfire or not. PyTorch will be the main library used for this project. \n",
    "\n",
    "Image Specifications:\n",
    "- Type: `.jpg`\n",
    "- Dimensions: 250 x 250 pixels\n",
    "- Horizontal/vertical resolution: 96 dpi\n",
    "- Bit depth: 24"
   ]
  },
  {
   "cell_type": "code",
   "execution_count": 12,
   "id": "7d7ce618",
   "metadata": {},
   "outputs": [],
   "source": [
    "# Import libraries\n",
    "import torch\n",
    "import torch.nn as nn\n",
    "import torchvision\n",
    "import torchvision.transforms as transforms\n",
    "import matplotlib.pyplot as plt\n",
    "import numpy as np\n",
    "from torch.utils.data import DataLoader"
   ]
  },
  {
   "cell_type": "code",
   "execution_count": 13,
   "id": "295785df",
   "metadata": {},
   "outputs": [],
   "source": [
    "# Define transforms\n",
    "transform = transforms.Compose([\n",
    "    transforms.ToTensor(),\n",
    "    transforms.Normalize((0.5, 0.5, 0.5), (0.5, 0.5, 0.5))\n",
    "])"
   ]
  },
  {
   "cell_type": "code",
   "execution_count": 14,
   "id": "f1a11aae",
   "metadata": {},
   "outputs": [],
   "source": [
    "# Load the data\n",
    "train_set = torchvision.datasets.ImageFolder('forest_fire/Training and Validation', transform)\n",
    "test_set = torchvision.datasets.ImageFolder('forest_fire/Testing', transform)"
   ]
  },
  {
   "cell_type": "code",
   "execution_count": null,
   "id": "597f19cd",
   "metadata": {},
   "outputs": [],
   "source": [
    "# Create some hyperparameters\n"
   ]
  },
  {
   "cell_type": "code",
   "execution_count": null,
   "id": "335dab58",
   "metadata": {},
   "outputs": [],
   "source": [
    "# Create a dynamic Multi-layer Perceptron\n",
    "class DynamicMLP(nn.Module):\n",
    "    ..."
   ]
  },
  {
   "cell_type": "code",
   "execution_count": 15,
   "id": "f2a0dcb7",
   "metadata": {},
   "outputs": [],
   "source": [
    "# Create a dynamic Convolutional Neural Network\n",
    "class DynamicCNN(nn.Module):\n",
    "    ..."
   ]
  }
 ],
 "metadata": {
  "kernelspec": {
   "display_name": "base",
   "language": "python",
   "name": "python3"
  },
  "language_info": {
   "codemirror_mode": {
    "name": "ipython",
    "version": 3
   },
   "file_extension": ".py",
   "mimetype": "text/x-python",
   "name": "python",
   "nbconvert_exporter": "python",
   "pygments_lexer": "ipython3",
   "version": "3.12.5"
  }
 },
 "nbformat": 4,
 "nbformat_minor": 5
}
