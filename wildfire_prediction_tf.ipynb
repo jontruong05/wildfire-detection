{
 "cells": [
  {
   "cell_type": "markdown",
   "id": "30772217",
   "metadata": {},
   "source": [
    "# Wildfire Prediction (TensorFlow)\n",
    "\n",
    "This Jupyter Notebook serves as a reimplementation of the best-performing MLP and CNN from `wildfire_prediction.ipynb`. They will be reimplemented in TensorFlow so that they may be deployed as part of a wildfire detection app. \n",
    "\n",
    "Link to dataset: https://www.kaggle.com/datasets/brsdincer/wildfire-detection-image-data\n",
    "\n",
    "Image Specifications:\n",
    "- Type: `.jpg`\n",
    "- Dimensions: 250 x 250 pixels\n",
    "- Horizontal/vertical resolution: 96 dpi\n",
    "- Bit depth: 24"
   ]
  },
  {
   "cell_type": "code",
   "execution_count": 81,
   "id": "ab462a79",
   "metadata": {},
   "outputs": [],
   "source": [
    "import tensorflow as tf\n",
    "from tensorflow.data import AUTOTUNE\n",
    "from tensorflow.keras.layers import Flatten, Dense, Conv2D, MaxPooling2D\n",
    "from tensorflow.keras.losses import SparseCategoricalCrossentropy\n",
    "from tensorflow.keras.models import Sequential\n",
    "from tensorflow.keras.optimizers import Adam"
   ]
  },
  {
   "cell_type": "code",
   "execution_count": 82,
   "id": "6e812bd6",
   "metadata": {},
   "outputs": [
    {
     "name": "stdout",
     "output_type": "stream",
     "text": [
      "2.19.0\n"
     ]
    }
   ],
   "source": [
    "print(tf.__version__)"
   ]
  },
  {
   "cell_type": "code",
   "execution_count": 83,
   "id": "c5b6d57b",
   "metadata": {},
   "outputs": [],
   "source": [
    "def normalize(image, label):\n",
    "    image = tf.cast(image, tf.float32) / 255.0\n",
    "    image = (image - 0.5) / 0.5\n",
    "    return image, label"
   ]
  },
  {
   "cell_type": "code",
   "execution_count": 84,
   "id": "099fe042",
   "metadata": {},
   "outputs": [
    {
     "name": "stdout",
     "output_type": "stream",
     "text": [
      "Found 1832 files belonging to 2 classes.\n",
      "Using 1465 files for training.\n",
      "Found 1832 files belonging to 2 classes.\n",
      "Using 367 files for validation.\n",
      "Found 68 files belonging to 2 classes.\n"
     ]
    }
   ],
   "source": [
    "# Create train, validation, and test sets\n",
    "tf.random.set_seed(42)\n",
    "\n",
    "# Using 0.2005 for validation split ratio so that we stay consistent with using 1465 images for training and 367 images for validation\n",
    "train_set = tf.keras.utils.image_dataset_from_directory(\n",
    "    'forest_fire/Training and Validation',\n",
    "    seed=123,\n",
    "    validation_split=0.2005,\n",
    "    subset='training',\n",
    "    image_size=(250, 250),\n",
    "    batch_size=64\n",
    ").map(normalize).shuffle(buffer_size=1000, seed=42).prefetch(AUTOTUNE)\n",
    "\n",
    "val_set = tf.keras.utils.image_dataset_from_directory(\n",
    "    'forest_fire/Training and Validation',\n",
    "    seed=123,\n",
    "    validation_split=0.2005,\n",
    "    subset='validation',\n",
    "    image_size=(250, 250),\n",
    "    batch_size=64\n",
    ").map(normalize).prefetch(AUTOTUNE)\n",
    "\n",
    "test_set = tf.keras.utils.image_dataset_from_directory(\n",
    "    'forest_fire/Testing',\n",
    "    labels='inferred',\n",
    "    label_mode='int',\n",
    "    image_size=(250, 250),\n",
    "    batch_size=64,\n",
    "    shuffle=False\n",
    ").map(normalize).prefetch(AUTOTUNE)"
   ]
  },
  {
   "cell_type": "code",
   "execution_count": 85,
   "id": "b209ae4a",
   "metadata": {},
   "outputs": [],
   "source": [
    "# Best performing MLP model from model testing (mlp_2)\n",
    "mlp_2 = Sequential([\n",
    "    Flatten(input_shape=(250, 250, 3)),\n",
    "    Dense(128, activation='relu'),\n",
    "    Dense(64, activation='relu'),\n",
    "    Dense(2)\n",
    "])"
   ]
  },
  {
   "cell_type": "code",
   "execution_count": 86,
   "id": "420f196a",
   "metadata": {},
   "outputs": [],
   "source": [
    "mlp_2.compile(\n",
    "    optimizer=tf.keras.optimizers.Adam(learning_rate=0.001),\n",
    "    loss=SparseCategoricalCrossentropy(from_logits=True),\n",
    "    metrics=['accuracy']\n",
    ")"
   ]
  },
  {
   "cell_type": "code",
   "execution_count": 87,
   "id": "3dfa9ddf",
   "metadata": {},
   "outputs": [
    {
     "name": "stdout",
     "output_type": "stream",
     "text": [
      "Epoch 1/20\n",
      "\u001b[1m23/23\u001b[0m \u001b[32m━━━━━━━━━━━━━━━━━━━━\u001b[0m\u001b[37m\u001b[0m \u001b[1m4s\u001b[0m 131ms/step - accuracy: 0.8150 - loss: 8.9061 - val_accuracy: 0.8638 - val_loss: 4.4011\n",
      "Epoch 2/20\n",
      "\u001b[1m23/23\u001b[0m \u001b[32m━━━━━━━━━━━━━━━━━━━━\u001b[0m\u001b[37m\u001b[0m \u001b[1m3s\u001b[0m 101ms/step - accuracy: 0.9263 - loss: 1.6419 - val_accuracy: 0.9455 - val_loss: 1.6376\n",
      "Epoch 3/20\n",
      "\u001b[1m23/23\u001b[0m \u001b[32m━━━━━━━━━━━━━━━━━━━━\u001b[0m\u001b[37m\u001b[0m \u001b[1m3s\u001b[0m 99ms/step - accuracy: 0.9392 - loss: 0.8838 - val_accuracy: 0.9264 - val_loss: 1.9877\n",
      "Epoch 4/20\n",
      "\u001b[1m23/23\u001b[0m \u001b[32m━━━━━━━━━━━━━━━━━━━━\u001b[0m\u001b[37m\u001b[0m \u001b[1m3s\u001b[0m 100ms/step - accuracy: 0.9352 - loss: 0.9496 - val_accuracy: 0.9019 - val_loss: 2.3305\n",
      "Epoch 5/20\n",
      "\u001b[1m23/23\u001b[0m \u001b[32m━━━━━━━━━━━━━━━━━━━━\u001b[0m\u001b[37m\u001b[0m \u001b[1m3s\u001b[0m 97ms/step - accuracy: 0.9625 - loss: 0.5387 - val_accuracy: 0.9292 - val_loss: 1.9884\n",
      "Epoch 6/20\n",
      "\u001b[1m23/23\u001b[0m \u001b[32m━━━━━━━━━━━━━━━━━━━━\u001b[0m\u001b[37m\u001b[0m \u001b[1m3s\u001b[0m 103ms/step - accuracy: 0.9693 - loss: 0.2391 - val_accuracy: 0.9537 - val_loss: 1.3256\n",
      "Epoch 7/20\n",
      "\u001b[1m23/23\u001b[0m \u001b[32m━━━━━━━━━━━━━━━━━━━━\u001b[0m\u001b[37m\u001b[0m \u001b[1m3s\u001b[0m 98ms/step - accuracy: 0.9652 - loss: 0.3402 - val_accuracy: 0.9455 - val_loss: 1.5165\n",
      "Epoch 8/20\n",
      "\u001b[1m23/23\u001b[0m \u001b[32m━━━━━━━━━━━━━━━━━━━━\u001b[0m\u001b[37m\u001b[0m \u001b[1m3s\u001b[0m 99ms/step - accuracy: 0.9700 - loss: 0.3525 - val_accuracy: 0.9428 - val_loss: 1.3988\n",
      "Epoch 9/20\n",
      "\u001b[1m23/23\u001b[0m \u001b[32m━━━━━━━━━━━━━━━━━━━━\u001b[0m\u001b[37m\u001b[0m \u001b[1m3s\u001b[0m 98ms/step - accuracy: 0.9727 - loss: 0.2562 - val_accuracy: 0.9264 - val_loss: 1.9476\n",
      "Epoch 10/20\n",
      "\u001b[1m23/23\u001b[0m \u001b[32m━━━━━━━━━━━━━━━━━━━━\u001b[0m\u001b[37m\u001b[0m \u001b[1m3s\u001b[0m 103ms/step - accuracy: 0.9761 - loss: 0.2062 - val_accuracy: 0.9264 - val_loss: 1.8865\n",
      "Epoch 11/20\n",
      "\u001b[1m23/23\u001b[0m \u001b[32m━━━━━━━━━━━━━━━━━━━━\u001b[0m\u001b[37m\u001b[0m \u001b[1m3s\u001b[0m 111ms/step - accuracy: 0.9775 - loss: 0.2404 - val_accuracy: 0.9155 - val_loss: 2.0427\n",
      "Epoch 12/20\n",
      "\u001b[1m23/23\u001b[0m \u001b[32m━━━━━━━━━━━━━━━━━━━━\u001b[0m\u001b[37m\u001b[0m \u001b[1m3s\u001b[0m 112ms/step - accuracy: 0.9693 - loss: 0.2825 - val_accuracy: 0.9319 - val_loss: 1.9176\n",
      "Epoch 13/20\n",
      "\u001b[1m23/23\u001b[0m \u001b[32m━━━━━━━━━━━━━━━━━━━━\u001b[0m\u001b[37m\u001b[0m \u001b[1m3s\u001b[0m 106ms/step - accuracy: 0.9741 - loss: 0.2096 - val_accuracy: 0.8937 - val_loss: 2.9767\n",
      "Epoch 14/20\n",
      "\u001b[1m23/23\u001b[0m \u001b[32m━━━━━━━━━━━━━━━━━━━━\u001b[0m\u001b[37m\u001b[0m \u001b[1m3s\u001b[0m 109ms/step - accuracy: 0.9577 - loss: 0.5099 - val_accuracy: 0.9346 - val_loss: 1.8864\n",
      "Epoch 15/20\n",
      "\u001b[1m23/23\u001b[0m \u001b[32m━━━━━━━━━━━━━━━━━━━━\u001b[0m\u001b[37m\u001b[0m \u001b[1m3s\u001b[0m 98ms/step - accuracy: 0.9782 - loss: 0.1922 - val_accuracy: 0.9264 - val_loss: 2.1893\n",
      "Epoch 16/20\n",
      "\u001b[1m23/23\u001b[0m \u001b[32m━━━━━━━━━━━━━━━━━━━━\u001b[0m\u001b[37m\u001b[0m \u001b[1m3s\u001b[0m 113ms/step - accuracy: 0.9829 - loss: 0.1520 - val_accuracy: 0.9346 - val_loss: 2.0136\n",
      "Epoch 17/20\n",
      "\u001b[1m23/23\u001b[0m \u001b[32m━━━━━━━━━━━━━━━━━━━━\u001b[0m\u001b[37m\u001b[0m \u001b[1m3s\u001b[0m 115ms/step - accuracy: 0.9823 - loss: 0.1819 - val_accuracy: 0.9210 - val_loss: 2.6509\n",
      "Epoch 18/20\n",
      "\u001b[1m23/23\u001b[0m \u001b[32m━━━━━━━━━━━━━━━━━━━━\u001b[0m\u001b[37m\u001b[0m \u001b[1m3s\u001b[0m 97ms/step - accuracy: 0.9563 - loss: 0.7296 - val_accuracy: 0.9510 - val_loss: 1.9340\n",
      "Epoch 19/20\n",
      "\u001b[1m23/23\u001b[0m \u001b[32m━━━━━━━━━━━━━━━━━━━━\u001b[0m\u001b[37m\u001b[0m \u001b[1m3s\u001b[0m 97ms/step - accuracy: 0.9509 - loss: 0.6552 - val_accuracy: 0.9373 - val_loss: 2.8980\n",
      "Epoch 20/20\n",
      "\u001b[1m23/23\u001b[0m \u001b[32m━━━━━━━━━━━━━━━━━━━━\u001b[0m\u001b[37m\u001b[0m \u001b[1m2s\u001b[0m 94ms/step - accuracy: 0.9693 - loss: 0.4674 - val_accuracy: 0.9210 - val_loss: 2.9685\n"
     ]
    },
    {
     "data": {
      "text/plain": [
       "<keras.src.callbacks.history.History at 0x30f508620>"
      ]
     },
     "execution_count": 87,
     "metadata": {},
     "output_type": "execute_result"
    }
   ],
   "source": [
    "mlp_2.fit(\n",
    "    train_set,\n",
    "    validation_data=val_set,\n",
    "    epochs=20\n",
    ")"
   ]
  },
  {
   "cell_type": "code",
   "execution_count": 88,
   "id": "63cbe388",
   "metadata": {},
   "outputs": [
    {
     "name": "stdout",
     "output_type": "stream",
     "text": [
      "\u001b[1m2/2\u001b[0m \u001b[32m━━━━━━━━━━━━━━━━━━━━\u001b[0m\u001b[37m\u001b[0m \u001b[1m0s\u001b[0m 11ms/step - accuracy: 0.8676 - loss: 5.8111\n"
     ]
    },
    {
     "data": {
      "text/plain": [
       "[5.811068534851074, 0.8676470518112183]"
      ]
     },
     "execution_count": 88,
     "metadata": {},
     "output_type": "execute_result"
    }
   ],
   "source": [
    "mlp_2.evaluate(test_set)"
   ]
  },
  {
   "cell_type": "code",
   "execution_count": 27,
   "id": "d8e8ea09",
   "metadata": {},
   "outputs": [
    {
     "name": "stderr",
     "output_type": "stream",
     "text": [
      "/Users/jonathantruong/miniforge3/lib/python3.12/site-packages/keras/src/layers/convolutional/base_conv.py:113: UserWarning: Do not pass an `input_shape`/`input_dim` argument to a layer. When using Sequential models, prefer using an `Input(shape)` object as the first layer in the model instead.\n",
      "  super().__init__(activity_regularizer=activity_regularizer, **kwargs)\n"
     ]
    }
   ],
   "source": [
    "# Best performing CNN model from model testing (cnn_9)\n",
    "cnn_9 = Sequential([\n",
    "    Conv2D(32, kernel_size=7, padding='same', activation='relu', input_shape=(250, 250, 3)),\n",
    "    MaxPooling2D(pool_size=2),\n",
    "    Conv2D(64, kernel_size=7, padding='same', activation='relu'),\n",
    "    MaxPooling2D(pool_size=2),\n",
    "    Conv2D(128, kernel_size=7, padding='same', activation='relu'),\n",
    "    MaxPooling2D(pool_size=2),\n",
    "    Flatten(),\n",
    "    Dense(2)\n",
    "])"
   ]
  },
  {
   "cell_type": "code",
   "execution_count": 72,
   "id": "c5c3e19f",
   "metadata": {},
   "outputs": [],
   "source": [
    "cnn_9.compile(\n",
    "    optimizer=tf.keras.optimizers.Adam(learning_rate=0.001),\n",
    "    loss=SparseCategoricalCrossentropy(from_logits=True),\n",
    "    metrics=['accuracy']\n",
    ")"
   ]
  },
  {
   "cell_type": "code",
   "execution_count": null,
   "id": "b7b321b5",
   "metadata": {},
   "outputs": [],
   "source": [
    "cnn_9.fit(\n",
    "    train_set,\n",
    "    validation_data=val_set,\n",
    "    epochs=20\n",
    ")"
   ]
  },
  {
   "cell_type": "code",
   "execution_count": null,
   "id": "3d46b372",
   "metadata": {},
   "outputs": [],
   "source": [
    "cnn_9.evaluate(test_set)"
   ]
  }
 ],
 "metadata": {
  "kernelspec": {
   "display_name": "base",
   "language": "python",
   "name": "python3"
  },
  "language_info": {
   "codemirror_mode": {
    "name": "ipython",
    "version": 3
   },
   "file_extension": ".py",
   "mimetype": "text/x-python",
   "name": "python",
   "nbconvert_exporter": "python",
   "pygments_lexer": "ipython3",
   "version": "3.12.5"
  }
 },
 "nbformat": 4,
 "nbformat_minor": 5
}
